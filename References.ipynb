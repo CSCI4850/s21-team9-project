{
 "cells": [
  {
   "cell_type": "raw",
   "metadata": {},
   "source": [
    "@article{b1,\n",
    "  author = \"Olatunbosun Agbo-Ajala  and Serestina Viriri\",\n",
    "   title = \"Deeply Learned Classifiers for Age and Gender Predictions of Unfiltered Faces\",\n",
    " journal = \"TheScientificWorldJournal\",\n",
    "    year = 2020\n",
    "}"
   ]
  },
  {
   "cell_type": "raw",
   "metadata": {},
   "source": [
    "@article{b2,\n",
    "  author = \"Gil Levi and Tal Hassner\",\n",
    "   title = \"Age and Gender Classification using Convolutional Neural Networks\",\n",
    "    year = 2015\n",
    "}"
   ]
  },
  {
   "cell_type": "raw",
   "metadata": {},
   "source": [
    "@article{b3,\n",
    "  author = \"Rachel Lea Ballantyne Draelos\",\n",
    "   title = \"The History of Convolutional Neural Networks\",\n",
    "    year = 2020\n",
    "}"
   ]
  },
  {
   "cell_type": "raw",
   "metadata": {},
   "source": [
    "@article{b4,\n",
    "  author = {Rasmus Rothe and Radu Timofte and Luc Van Gool},\n",
    "  title = {Deep expectation of real and apparent age from a single image without facial landmarks},\n",
    "  journal = {International Journal of Computer Vision},\n",
    "  volume={126},\n",
    "  number={2-4},\n",
    "  pages={144--157},\n",
    "  year={2018},\n",
    "  publisher={Springer}\n",
    "}"
   ]
  }
 ],
 "metadata": {
  "kernelspec": {
   "display_name": "Python 3",
   "language": "python",
   "name": "python3"
  },
  "language_info": {
   "codemirror_mode": {
    "name": "ipython",
    "version": 3
   },
   "file_extension": ".py",
   "mimetype": "text/x-python",
   "name": "python",
   "nbconvert_exporter": "python",
   "pygments_lexer": "ipython3",
   "version": "3.8.6"
  }
 },
 "nbformat": 4,
 "nbformat_minor": 4
}
