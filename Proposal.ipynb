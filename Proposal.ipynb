{
 "cells": [
  {
   "cell_type": "markdown",
   "metadata": {},
   "source": [
    "<h1>Team 9 Proposal</h1>"
   ]
  },
  {
   "cell_type": "markdown",
   "metadata": {},
   "source": [
    "<p>Our group aims to create a neural network that takes images of people as input and determines that person’s age and gender. For a minimum viable product (MVP), age and gender are the initial two demographic classifications that we aim to have completed by the end of the project, and every input image will contain a single person. After we seem to have a good grip on the MVP, we plan to add more complexity to the project if time allows by possibly making the network produce more demographic classifications. Which demographic we will target after will depend on whether there is a data set available. Additionally, as a stretch goal, we aim to have the network process images with multiple people.  We have also considered using small voice clips as another possible input to the network.</p>"
   ]
  },
  {
   "cell_type": "markdown",
   "metadata": {},
   "source": [
    "<p>Our neural network will predict the age and gender of an individual based on the features in the image. The features include the size and shape of things like eyebrows, eyes, noses, lips, etc. We think that developing the solution into two neural networks, one used to classify age and one used to classify gender, might be a better idea. Each network will be optimized with hyperparameters and activation functions to better suit the classification it's attempting to compute.</p>"
   ]
  },
  {
   "cell_type": "markdown",
   "metadata": {},
   "source": [
    "<p>We have found a few possible candidates for datasets we will be using (IMDB-WIKI). We plan on creating two small neural nets, one for determining the age and the other for recognizing gender, but both will be using the same data sets for now. Each neural network will just have different outputs. Our data sets are tagged with a person’s age and gender, so the model has something to be trained and verified on.  </p>"
   ]
  },
  {
   "cell_type": "markdown",
   "metadata": {},
   "source": [
    "<p>Of course, this idea is not completely original and projects like this have been attempted and built in the past. A model was created by Sefik Ilkin Serengil (2019) with largely the same end goal, and at the moment it will serve as a springboard and inspiration for our project. We would like to try out a few different types of models and try adjusting several different hyperparameters in order to come up with similar results found in the article or perhaps better ones. Our models will be tested by dividing the data set into two different parts. One half will be used for training and the other for testing. We will likely calculate the error by using the categorical cross entropy loss function since an image provides many variables to be considered. We will know our project is successful when the loss graph shows clear growth, and the model evaluates to a reasonable accuracy similar to the evaluation methods we have done in open labs. </p>"
   ]
  },
  {
   "cell_type": "markdown",
   "metadata": {},
   "source": [
    "<p>As far as stretch goals and potential things to be added go, we are planning to make this neural network grow over time by adding more datasets. This will help us be able to identify more demographics using the image. We are also thinking about making the network smart enough to recognize more than one person.  </p>"
   ]
  },
  {
   "cell_type": "markdown",
   "metadata": {},
   "source": [
    "<break>"
   ]
  },
  {
   "cell_type": "markdown",
   "metadata": {},
   "source": [
    "<break>"
   ]
  },
  {
   "cell_type": "markdown",
   "metadata": {},
   "source": [
    "<h2>Citations</h2>"
   ]
  },
  {
   "cell_type": "markdown",
   "metadata": {},
   "source": [
<<<<<<< HEAD
    "<div style=“text-indent: -36px; padding-left: 36px;”>\n",
    "<p>IMDB-WIKI – 500k+ face images with age and GENDER LABELS. (n.d.). Retrieved March 09, 2021, from https://data.vision.ee.ethz.ch/cvl/rrothe/imdb-wiki/</p>\n",
    "\n",
    "<p>Serengil, S. (2019, February 13). Apparent age and gender prediction in Keras. Retrieved March 09, 2021, from https://sefiks.com/2019/02/13/apparent-age-and-gender-prediction-in-keras/ </p>\n",
    "</div>"
=======
    "<p>IMDB-WIKI – 500k+ face images with age and GENDER LABELS. (n.d.). Retrieved March 09, 2021, from https://data.vision.ee.ethz.ch/cvl/rrothe/imdb-wiki/</p>\n",
    "\n",
    "<p>Serengil, S. (2019, February 13). Apparent age and gender prediction in Keras. Retrieved March 09, 2021, from https://sefiks.com/2019/02/13/apparent-age-and-gender-prediction-in-keras/ </p>"
>>>>>>> 0a87ade027e3a3c9500348467fdde1679d86b115
   ]
  }
 ],
 "metadata": {
  "kernelspec": {
   "display_name": "Python 3",
   "language": "python",
   "name": "python3"
  },
  "language_info": {
   "codemirror_mode": {
    "name": "ipython",
    "version": 3
   },
   "file_extension": ".py",
   "mimetype": "text/x-python",
   "name": "python",
   "nbconvert_exporter": "python",
   "pygments_lexer": "ipython3",
   "version": "3.8.6"
  }
 },
 "nbformat": 4,
 "nbformat_minor": 4
}
