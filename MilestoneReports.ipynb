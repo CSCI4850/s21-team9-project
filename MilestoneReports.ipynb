{
 "cells": [
  {
   "cell_type": "markdown",
   "metadata": {},
   "source": [
    "<h1><strong>Milestone Reports</strong></h1>"
   ]
  },
  {
   "cell_type": "markdown",
   "metadata": {},
   "source": [
    "<h2>March 15</h2>"
   ]
  },
  {
   "cell_type": "markdown",
   "metadata": {},
   "source": [
    "<table>\n",
    "  <tr>\n",
    "    <th>Deliverable</th>\n",
    "    <th>Percent Complete</th>\n",
    "    <th>Estimated Completion Date</th>\n",
    "    <th>Percent Complete By Next Milestone</th>\n",
    "  </tr>\n",
    "  <tr>\n",
    "    <td>Code</td>\n",
    "    <td>0%</td>\n",
    "    <td>April 14</td>\n",
    "    <td>15%</td>\n",
    "  </tr>\n",
    "  <tr>\n",
    "    <td>Paper</td>\n",
    "    <td>2%</td>\n",
    "    <td>April 21</td>\n",
    "    <td>15%</td>\n",
    "  </tr>\n",
    "  <tr>\n",
    "    <td>Demo</td>\n",
    "    <td>0%</td>\n",
    "    <td>May 1</td>\n",
    "    <td>5%</td>\n",
    "  </tr>\n",
    "  <tr>\n",
    "    <td>Presentation</td>\n",
    "    <td>0%</td>\n",
    "    <td>May 3</td>\n",
    "    <td>10%</td>\n",
    "  </tr>\n",
    "</table>"
   ]
  },
  {
   "cell_type": "markdown",
   "metadata": {},
   "source": [
    "<h4>3. What are the main deliverable goals to meet before the next milestone report, and who is working on them?</h4>"
   ]
  },
  {
   "cell_type": "markdown",
   "metadata": {},
   "source": [
    "<p>Paper: Finding references and writing introduction/background (Jessica and Gloria)</p>\n",
    "<p>Code: Preprocessing images - if we can get it to preprocess a small subset, we can call this done. (Kiro and Rober)</p>\n",
    "<p>Demo: Begin initial stages of preparing demo (Rober)</p>\n",
    "<p>Presentation: Begin introduction portion and organizing information of the presentation. (Hannah)</p>"
   ]
  },
  {
   "cell_type": "markdown",
   "metadata": {},
   "source": [
    "--------------------------------"
   ]
  },
  {
   "cell_type": "markdown",
   "metadata": {},
   "source": [
    "<h2>March 22</h2>"
   ]
  },
  {
   "cell_type": "markdown",
   "metadata": {},
   "source": [
    "<table>\n",
    "  <tr>\n",
    "    <th>Deliverable</th>\n",
    "    <th>Percent Complete</th>\n",
    "    <th>Estimated Completion Date</th>\n",
    "    <th>Percent Complete By Next Milestone</th>\n",
    "  </tr>\n",
    "  <tr>\n",
    "    <td>Code</td>\n",
    "    <td>15%</td>\n",
    "    <td>April 14</td>\n",
    "    <td>30%</td>\n",
    "  </tr>\n",
    "  <tr>\n",
    "    <td>Paper</td>\n",
    "    <td>15%</td>\n",
    "    <td>April 21</td>\n",
    "    <td>25%</td>\n",
    "  </tr>\n",
    "  <tr>\n",
    "    <td>Demo</td>\n",
    "    <td>5%</td>\n",
    "    <td>May 1</td>\n",
    "    <td>5%</td>\n",
    "  </tr>\n",
    "  <tr>\n",
    "    <td>Presentation</td>\n",
    "    <td>15%</td>\n",
    "    <td>May 3</td>\n",
    "    <td>20%</td>\n",
    "  </tr>\n",
    "</table>"
   ]
  },
  {
   "cell_type": "markdown",
   "metadata": {},
   "source": [
    "<h4>1. What deliverable goals established in the last miltstone report were accomplished to the anticipated percentage?</h4>"
   ]
  },
  {
   "cell_type": "markdown",
   "metadata": {},
   "source": [
    "<p>Paper: The introduction was written and more references on the topic was found. </p>\n",
    "\n",
    "<p>Code:  code to process the meta data file, resizing an image and transforming it into a vector </p>\n",
    "\n",
    "<p>Demo: Got the demo idea going. </p>\n",
    "\n",
    "<p>Presentation: Project motivations, key aims, and info about the project put into presentation.  </p>"
   ]
  },
  {
   "cell_type": "markdown",
   "metadata": {},
   "source": [
    "<h4>2. What deliverables goals established in the last mileston report were not accomplished to the anticipated percentage?</h4>"
   ]
  },
  {
   "cell_type": "markdown",
   "metadata": {},
   "source": [
    "<p>None</p>"
   ]
  },
  {
   "cell_type": "markdown",
   "metadata": {},
   "source": [
    "<h4>3. What are the main deliverable goals to meet before the next milestone report, and who is working on them?</h4>"
   ]
  },
  {
   "cell_type": "markdown",
   "metadata": {},
   "source": [
    "<p>Paper: Write the section of the background including the history and some related works – Gloria, Jessica, Hannah. </p>\n",
    "\n",
    "<p>Code: using OLA6 to learn about convolutional layers, and implement some working network not yet optimized – Kirolous, Rober </p>\n",
    "\n",
    "<p>Demo: N/A until the code is ready </p>\n",
    "\n",
    "<p>Presentation: Iron out some of the details in the background information -Hannah </p>"
   ]
  },
  {
   "cell_type": "markdown",
   "metadata": {},
   "source": [
    "-----------------------"
   ]
  },
  {
   "cell_type": "markdown",
   "metadata": {},
   "source": [
    "<h2>March 29</h2>"
   ]
  },
  {
   "cell_type": "markdown",
   "metadata": {},
   "source": [
    "<table>\n",
    "  <tr>\n",
    "    <th>Deliverable</th>\n",
    "    <th>Percent Complete</th>\n",
    "    <th>Estimated Completion Date</th>\n",
    "    <th>Percent Complete By Next Milestone</th>\n",
    "  </tr>\n",
    "  <tr>\n",
    "    <td>Code</td>\n",
    "    <td>30%</td>\n",
    "    <td>April 14</td>\n",
    "    <td>45%</td>\n",
    "  </tr>\n",
    "  <tr>\n",
    "    <td>Paper</td>\n",
    "    <td>25%</td>\n",
    "    <td>April 21</td>\n",
    "    <td>35%</td>\n",
    "  </tr>\n",
    "  <tr>\n",
    "    <td>Demo</td>\n",
    "    <td>5%</td>\n",
    "    <td>May 1</td>\n",
    "    <td>5%</td>\n",
    "  </tr>\n",
    "  <tr>\n",
    "    <td>Presentation</td>\n",
    "    <td>20%</td>\n",
    "    <td>May 3</td>\n",
    "    <td>20%</td>\n",
    "  </tr>\n",
    "</table>"
   ]
  },
  {
   "cell_type": "markdown",
   "metadata": {},
   "source": [
    "<h4>1. What deliverable goals established in the last miltstone report were accomplished to the anticipated percentage?</h4>"
   ]
  },
  {
   "cell_type": "markdown",
   "metadata": {},
   "source": [
    "<p>Paper: Finished writing the background section of the paper including the history of convolution nets and references to related works.</p>\n",
    "\n",
    "<p>Code: Built a convolutional network, processed the .mat meta data files for wiki and IMDB data sets, into JSON files, with the age and gender extracted and ready to turned into categorical. </p>\n",
    "\n",
    "<p>Demo: N/A until the code is ready </p>\n",
    "\n",
    "<p>Presentation: Updated a few of the slides with new information about the network </p>"
   ]
  },
  {
   "cell_type": "markdown",
   "metadata": {},
   "source": [
    "<h4>2. What deliverables goals established in the last mileston report were not accomplished to the anticipated percentage?</h4>"
   ]
  },
  {
   "cell_type": "markdown",
   "metadata": {},
   "source": [
    "<p>None</p>"
   ]
  },
  {
   "cell_type": "markdown",
   "metadata": {},
   "source": [
    "<h4>3. What are the main deliverable goals to meet before the next milestone report, and who is working on them?</h4>"
   ]
  },
  {
   "cell_type": "markdown",
   "metadata": {},
   "source": [
    "<p>Paper: Work on methods section, mainly the preprocessing of the data in the model -Goria, Jessica, and Hannah</p>\n",
    "\n",
    "<p>Code: comment, push the code out to the GITHUB repo, start training the model using 10k images as initial test and tuning of the hyper parameters, figure out a way to designate store which images were processed and how many epochs we've gone through... -Rober and Kiro </p>\n",
    "\n",
    "<p>Demo: N/A until the code is ready </p>\n",
    "\n",
    "<p>Presentation: N/A no more work to be done until the code is done </p>"
   ]
  },
  {
   "cell_type": "markdown",
   "metadata": {},
   "source": [
    "-----------------------"
   ]
  },
  {
   "cell_type": "markdown",
   "metadata": {},
   "source": [
    "<h2>April 5</h2>"
   ]
  },
  {
   "cell_type": "markdown",
   "metadata": {},
   "source": [
    "<table>\n",
    "  <tr>\n",
    "    <th>Deliverable</th>\n",
    "    <th>Percent Complete</th>\n",
    "    <th>Estimated Completion Date</th>\n",
    "    <th>Percent Complete By Next Milestone</th>\n",
    "  </tr>\n",
    "  <tr>\n",
    "    <td>Code</td>\n",
    "    <td>45%</td>\n",
    "    <td>April 14</td>\n",
    "    <td>80%</td>\n",
    "  </tr>\n",
    "  <tr>\n",
    "    <td>Paper</td>\n",
    "    <td>35%</td>\n",
    "    <td>April 21</td>\n",
    "    <td>45%</td>\n",
    "  </tr>\n",
    "  <tr>\n",
    "    <td>Demo</td>\n",
    "    <td>5%</td>\n",
    "    <td>May 1</td>\n",
    "    <td>15%</td>\n",
    "  </tr>\n",
    "  <tr>\n",
    "    <td>Presentation</td>\n",
    "    <td>20%</td>\n",
    "    <td>May 3</td>\n",
    "    <td>20%</td>\n",
    "  </tr>\n",
    "</table>"
   ]
  },
  {
   "cell_type": "markdown",
   "metadata": {},
   "source": [
    "<h4>1. What deliverable goals established in the last miltstone report were accomplished to the anticipated percentage?</h4>"
   ]
  },
  {
   "cell_type": "markdown",
   "metadata": {},
   "source": [
    "<p>Paper: We began on the methods section and described how the image data was preprocessed for training.</p>\n",
    "\n",
    "<p>Code: implemented a network, tested it with the first 1000 images with a categorical validation of 74%, built a method of logging progress, and loading/saving the models after training.</p>\n",
    "\n",
    "<p>Demo: N/A until the code is ready </p>\n",
    "\n",
    "<p>Presentation: N/A until the code is ready </p>"
   ]
  },
  {
   "cell_type": "markdown",
   "metadata": {},
   "source": [
    "<h4>2. What deliverables goals established in the last mileston report were not accomplished to the anticipated percentage?</h4>"
   ]
  },
  {
   "cell_type": "markdown",
   "metadata": {},
   "source": [
    "<p>None</p>"
   ]
  },
  {
   "cell_type": "markdown",
   "metadata": {},
   "source": [
    "<h4>3. What are the main deliverable goals to meet before the next milestone report, and who is working on them?</h4>"
   ]
  },
  {
   "cell_type": "markdown",
   "metadata": {},
   "source": [
    "<p>Paper: We will put what we currently have of the paper into the given template and revise all of what we’ve written so far. -Jessica, Gloria, and Hannah</p>\n",
    "\n",
    "<p>Code: start the training for the gender and age models, and track the results in the log files to seee how the models are performing. -Kiro and Rober</p>\n",
    "\n",
    "<p>Demo: Start on the readme file – Kiro and Rober  </p>\n",
    "\n",
    "<p>Presentation: N/A no more work to be done until the code is done </p>"
   ]
  },
  {
   "cell_type": "markdown",
   "metadata": {},
   "source": [
    "-----------------------"
   ]
  },
  {
   "cell_type": "markdown",
   "metadata": {},
   "source": [
    "<h2>April 12</h2>"
   ]
  },
  {
   "cell_type": "markdown",
   "metadata": {},
   "source": [
    "<table>\n",
    "  <tr>\n",
    "    <th>Deliverable</th>\n",
    "    <th>Percent Complete</th>\n",
    "    <th>Estimated Completion Date</th>\n",
    "    <th>Percent Complete By Next Milestone</th>\n",
    "  </tr>\n",
    "  <tr>\n",
    "    <td>Code</td>\n",
    "    <td>70%</td>\n",
    "    <td>April 14</td>\n",
    "    <td>100%</td>\n",
    "  </tr>\n",
    "  <tr>\n",
    "    <td>Paper</td>\n",
    "    <td>45%</td>\n",
    "    <td>April 21</td>\n",
    "    <td>55%</td>\n",
    "  </tr>\n",
    "  <tr>\n",
    "    <td>Demo</td>\n",
    "    <td>20%</td>\n",
    "    <td>May 1</td>\n",
    "    <td>25%</td>\n",
    "  </tr>\n",
    "  <tr>\n",
    "    <td>Presentation</td>\n",
    "    <td>20%</td>\n",
    "    <td>May 3</td>\n",
    "    <td>20%</td>\n",
    "  </tr>\n",
    "</table>"
   ]
  },
  {
   "cell_type": "markdown",
   "metadata": {},
   "source": [
    "<h4>1. What deliverable goals established in the last miltstone report were accomplished to the anticipated percentage?</h4>"
   ]
  },
  {
   "cell_type": "markdown",
   "metadata": {},
   "source": [
    "<p>Paper: We have put what we have written so far into the template and formatted the text and references. </p>\n",
    "\n",
    "<p>Code: Made code to train subsets of the data by files, or by image number index, added code to store the model after each training of the data subset, changed the age model by adding a pretrained convolutional network as the head of the age model. Found some more corrupted images that contain a lot of noise, removed those from the data sets and added filters in the code to ignore them. Trained the age model with about 50 % of the data sets, and the gender model with about 60% of the data. </p>\n",
    "\n",
    "<p>Demo: We started on the readme file along with a file that contains all of the required libraries that are needed to run the python scripts. </p>\n",
    "\n",
    "<p>Presentation: N/A until the code is ready </p>"
   ]
  },
  {
   "cell_type": "markdown",
   "metadata": {},
   "source": [
    "<h4>2. What deliverables goals established in the last mileston report were not accomplished to the anticipated percentage?</h4>"
   ]
  },
  {
   "cell_type": "markdown",
   "metadata": {},
   "source": [
    "<p>None</p>"
   ]
  },
  {
   "cell_type": "markdown",
   "metadata": {},
   "source": [
    "<h4>3. What are the main deliverable goals to meet before the next milestone report, and who is working on them?</h4>"
   ]
  },
  {
   "cell_type": "markdown",
   "metadata": {},
   "source": [
    "<p>Paper: Start on the rest of the methods section. Proofread and revise the rest of the paper. Format   citations in history section with Latex. -Jessica, Gloria, and Hannah </p>\n",
    "\n",
    "<p>Code: Have all of the datasets pushed through the network, and graph loss and accuracy functions by loading in the testing dataset and running it through predict on the stored copies of the models after each dataset. Show one image and the predicted age and gender. -Kiro and Rober</p>\n",
    "\n",
    "<p>Demo: Work some more on the readme file and try to start on the demo video once the code is completed -Kiro and Rober </p>\n",
    "\n",
    "<p>Presentation: N/A no more work to be done until the code is done </p>"
   ]
  },
  {
   "cell_type": "markdown",
   "metadata": {},
   "source": [
    "-----------------------"
   ]
  },
  {
   "cell_type": "markdown",
   "metadata": {},
   "source": [
    "<h2>April 19</h2>"
   ]
  },
  {
   "cell_type": "markdown",
   "metadata": {},
   "source": [
    "<table>\n",
    "  <tr>\n",
    "    <th>Deliverable</th>\n",
    "    <th>Percent Complete</th>\n",
    "    <th>Estimated Completion Date</th>\n",
    "    <th>Percent Complete By Next Milestone</th>\n",
    "  </tr>\n",
    "  <tr>\n",
    "    <td>Code</td>\n",
    "    <td>95%</td>\n",
    "    <td>April 14</td>\n",
    "    <td>100%</td>\n",
    "  </tr>\n",
    "  <tr>\n",
    "    <td>Paper</td>\n",
    "    <td>60%</td>\n",
    "    <td>April 21</td>\n",
    "    <td>100%</td>\n",
    "  </tr>\n",
    "  <tr>\n",
    "    <td>Demo</td>\n",
    "    <td>20%</td>\n",
    "    <td>May 1</td>\n",
    "    <td>50%</td>\n",
    "  </tr>\n",
    "  <tr>\n",
    "    <td>Presentation</td>\n",
    "    <td>20%</td>\n",
    "    <td>May 3</td>\n",
    "    <td>20%</td>\n",
    "  </tr>\n",
    "</table>"
   ]
  },
  {
   "cell_type": "markdown",
   "metadata": {},
   "source": [
    "<h4>1. What deliverable goals established in the last miltstone report were accomplished to the anticipated percentage?</h4>"
   ]
  },
  {
   "cell_type": "markdown",
   "metadata": {},
   "source": [
    "<p>Paper: Proofread and added text to methods and discussion section.</p>\n",
    "\n",
    "<p>Code: All of the datasets were pushed through the network and loss and accuracy graphs were produced. </p>\n",
    "\n",
    "<p>Demo: Added some to readme and began preparing for demo</p>\n",
    "\n",
    "<p>Presentation: N/A until the code is ready</p>"
   ]
  },
  {
   "cell_type": "markdown",
   "metadata": {},
   "source": [
    "<h4>2. What deliverables goals established in the last mileston report were not accomplished to the anticipated percentage?</h4>"
   ]
  },
  {
   "cell_type": "markdown",
   "metadata": {},
   "source": [
    "<p>None</p>"
   ]
  },
  {
   "cell_type": "markdown",
   "metadata": {},
   "source": [
    "<h4>3. What are the main deliverable goals to meet before the next milestone report, and who is working on them?</h4>"
   ]
  },
  {
   "cell_type": "markdown",
   "metadata": {},
   "source": [
    "<p>Paper: Finish paper. Add abstract and results. Finish discussion section. Add images. Proofread before finalizing. - Jessica, Gloria, and Hannah</p>\n",
    "\n",
    "<p>Code: need to show an example of an image classified correctly and one that wasn’t for age and gender -Kiro and Rober</p>\n",
    "\n",
    "<p>Demo: showcase how the models are built and the hyper parameters, and show they can be reused by others -Kiro and Rober</p>\n",
    "\n",
    "<p>Presentation: N/A until paper is done</p>"
   ]
  },
  {
   "cell_type": "markdown",
   "metadata": {},
   "source": [
    "-----------------------"
   ]
  },
  {
   "cell_type": "code",
   "execution_count": null,
   "metadata": {},
   "outputs": [],
   "source": []
  }
 ],
 "metadata": {
  "kernelspec": {
   "display_name": "Python 3",
   "language": "python",
   "name": "python3"
  },
  "language_info": {
   "codemirror_mode": {
    "name": "ipython",
    "version": 3
   },
   "file_extension": ".py",
   "mimetype": "text/x-python",
   "name": "python",
   "nbconvert_exporter": "python",
   "pygments_lexer": "ipython3",
   "version": "3.8.6"
  }
 },
 "nbformat": 4,
 "nbformat_minor": 4
}
