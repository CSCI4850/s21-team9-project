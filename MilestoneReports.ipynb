{
 "cells": [
  {
   "cell_type": "markdown",
   "metadata": {},
   "source": [
    "<h1><strong>Milestone Reports</strong></h1>"
   ]
  },
  {
   "cell_type": "markdown",
   "metadata": {},
   "source": [
    "<h2>March 15</h2>"
   ]
  },
  {
   "cell_type": "markdown",
   "metadata": {},
   "source": [
    "<table>\n",
    "  <tr>\n",
    "    <th>Deliverable</th>\n",
    "    <th>Percent Complete</th>\n",
    "    <th>Estimated Completion Date</th>\n",
    "    <th>Percent Complete By Next Milestone</th>\n",
    "  </tr>\n",
    "  <tr>\n",
    "    <td>Code</td>\n",
    "    <td>0%</td>\n",
    "    <td>April 14</td>\n",
    "    <td>15%</td>\n",
    "  </tr>\n",
    "  <tr>\n",
    "    <td>Paper</td>\n",
    "    <td>2%</td>\n",
    "    <td>April 21</td>\n",
    "    <td>15%</td>\n",
    "  </tr>\n",
    "  <tr>\n",
    "    <td>Demo</td>\n",
    "    <td>0%</td>\n",
    "    <td>May 1</td>\n",
    "    <td>5%</td>\n",
    "  </tr>\n",
    "  <tr>\n",
    "    <td>Presentation</td>\n",
    "    <td>0%</td>\n",
    "    <td>May 3</td>\n",
    "    <td>10%</td>\n",
    "  </tr>\n",
    "</table>"
   ]
  },
  {
   "cell_type": "markdown",
   "metadata": {},
   "source": [
    "<h4>What are the main deliverable goals to meet before the next milestone report, and who is working on them?</h4>"
   ]
  },
  {
   "cell_type": "markdown",
   "metadata": {},
   "source": [
    "<p>Paper: Finding references and writing introduction/background (Jessica and Gloria)</p>\n",
    "<p>Code: Preprocessing images - if we can get it to preprocess a small subset, we can call this done. (Kiro and Rober)</p>\n",
    "<p>Demo: Begin initial stages of preparing demo (Rober)</p>\n",
    "<p>Presentation: Begin introduction portion and organizing information of the presentation. (Hannah)</p>"
   ]
  },
  {
   "cell_type": "markdown",
   "metadata": {},
   "source": [
    "--------------------------------"
   ]
  },
  {
   "cell_type": "code",
   "execution_count": null,
   "metadata": {},
   "outputs": [],
   "source": []
  }
 ],
 "metadata": {
  "kernelspec": {
   "display_name": "Python 3",
   "language": "python",
   "name": "python3"
  },
  "language_info": {
   "codemirror_mode": {
    "name": "ipython",
    "version": 3
   },
   "file_extension": ".py",
   "mimetype": "text/x-python",
   "name": "python",
   "nbconvert_exporter": "python",
   "pygments_lexer": "ipython3",
   "version": "3.8.6"
  }
 },
 "nbformat": 4,
 "nbformat_minor": 4
}
