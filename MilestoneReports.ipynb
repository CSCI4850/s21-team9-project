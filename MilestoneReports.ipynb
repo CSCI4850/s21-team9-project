{
 "cells": [
  {
   "cell_type": "markdown",
   "metadata": {},
   "source": [
    "<h1><strong>Milestone Reports</strong></h1>"
   ]
  },
  {
   "cell_type": "markdown",
   "metadata": {},
   "source": [
    "<h2>March 15</h2>"
   ]
  },
  {
   "cell_type": "markdown",
   "metadata": {},
   "source": [
    "<table>\n",
    "  <tr>\n",
    "    <th>Deliverable</th>\n",
    "    <th>Percent Complete</th>\n",
    "    <th>Estimated Completion Date</th>\n",
    "    <th>Percent Complete By Next Milestone</th>\n",
    "  </tr>\n",
    "  <tr>\n",
    "    <td>Code</td>\n",
    "    <td>0%</td>\n",
    "    <td>April 14</td>\n",
    "    <td>15%</td>\n",
    "  </tr>\n",
    "  <tr>\n",
    "    <td>Paper</td>\n",
    "    <td>2%</td>\n",
    "    <td>April 21</td>\n",
    "    <td>15%</td>\n",
    "  </tr>\n",
    "  <tr>\n",
    "    <td>Demo</td>\n",
    "    <td>0%</td>\n",
    "    <td>May 1</td>\n",
    "    <td>5%</td>\n",
    "  </tr>\n",
    "  <tr>\n",
    "    <td>Presentation</td>\n",
    "    <td>0%</td>\n",
    "    <td>May 3</td>\n",
    "    <td>10%</td>\n",
    "  </tr>\n",
    "</table>"
   ]
  },
  {
   "cell_type": "markdown",
   "metadata": {},
   "source": [
    "<h4>3. What are the main deliverable goals to meet before the next milestone report, and who is working on them?</h4>"
   ]
  },
  {
   "cell_type": "markdown",
   "metadata": {},
   "source": [
    "<p>Paper: Finding references and writing introduction/background (Jessica and Gloria)</p>\n",
    "<p>Code: Preprocessing images - if we can get it to preprocess a small subset, we can call this done. (Kiro and Rober)</p>\n",
    "<p>Demo: Begin initial stages of preparing demo (Rober)</p>\n",
    "<p>Presentation: Begin introduction portion and organizing information of the presentation. (Hannah)</p>"
   ]
  },
  {
   "cell_type": "markdown",
   "metadata": {},
   "source": [
    "--------------------------------"
   ]
  },
  {
   "cell_type": "markdown",
   "metadata": {},
   "source": [
    "<h2>March 22</h2>"
   ]
  },
  {
   "cell_type": "markdown",
   "metadata": {},
   "source": [
    "<table>\n",
    "  <tr>\n",
    "    <th>Deliverable</th>\n",
    "    <th>Percent Complete</th>\n",
    "    <th>Estimated Completion Date</th>\n",
    "    <th>Percent Complete By Next Milestone</th>\n",
    "  </tr>\n",
    "  <tr>\n",
    "    <td>Code</td>\n",
    "    <td>15%</td>\n",
    "    <td>April 14</td>\n",
    "    <td>30%</td>\n",
    "  </tr>\n",
    "  <tr>\n",
    "    <td>Paper</td>\n",
    "    <td>15%</td>\n",
    "    <td>April 21</td>\n",
    "    <td>25%</td>\n",
    "  </tr>\n",
    "  <tr>\n",
    "    <td>Demo</td>\n",
    "    <td>5%</td>\n",
    "    <td>May 1</td>\n",
    "    <td>5%</td>\n",
    "  </tr>\n",
    "  <tr>\n",
    "    <td>Presentation</td>\n",
    "    <td>15%</td>\n",
    "    <td>May 3</td>\n",
    "    <td>20%</td>\n",
    "  </tr>\n",
    "</table>"
   ]
  },
  {
   "cell_type": "markdown",
   "metadata": {},
   "source": [
    "<h4>1. What deliverable goals established in the last miltstone report were accomplished to the anticipated percentage?</h4>"
   ]
  },
  {
   "cell_type": "markdown",
   "metadata": {},
   "source": [
    "<p>Paper: The introduction was written and more references on the topic was found. </p>\n",
    "\n",
    "<p>Code:  code to process the meta data file, resizing an image and transforming it into a vector </p>\n",
    "\n",
    "<p>Demo: Got the demo idea going. </p>\n",
    "\n",
    "<p>Presentation: Project motivations, key aims, and info about the project put into presentation.  </p>"
   ]
  },
  {
   "cell_type": "markdown",
   "metadata": {},
   "source": [
    "<h4>2. What deliverables goals established in the last mileston report were not accomplished to the anticipated percentage?</h4>"
   ]
  },
  {
   "cell_type": "markdown",
   "metadata": {},
   "source": [
    "<p>None</p>"
   ]
  },
  {
   "cell_type": "markdown",
   "metadata": {},
   "source": [
    "<h4>3. What are the main deliverable goals to meet before the next milestone report, and who is working on them?</h4>"
   ]
  },
  {
   "cell_type": "markdown",
   "metadata": {},
   "source": [
    "<p>Paper: Write the section of the background including the history and some related works – Gloria, Jessica, Hannah. </p>\n",
    "\n",
    "<p>Code: using OLA6 to learn about convolutional layers, and implement some working network not yet optimized – Kirolous, Rober </p>\n",
    "\n",
    "<p>Demo: N/A until the code is ready </p>\n",
    "\n",
    "<p>Presentation: Iron out some of the details in the background information -Hannah </p>"
   ]
  },
  {
   "cell_type": "markdown",
   "metadata": {},
   "source": [
    "-----------------------"
   ]
  },
  {
   "cell_type": "code",
   "execution_count": null,
   "metadata": {},
   "outputs": [],
   "source": []
  }
 ],
 "metadata": {
  "kernelspec": {
   "display_name": "Python 3",
   "language": "python",
   "name": "python3"
  },
  "language_info": {
   "codemirror_mode": {
    "name": "ipython",
    "version": 3
   },
   "file_extension": ".py",
   "mimetype": "text/x-python",
   "name": "python",
   "nbconvert_exporter": "python",
   "pygments_lexer": "ipython3",
   "version": "3.8.6"
  }
 },
 "nbformat": 4,
 "nbformat_minor": 4
}
