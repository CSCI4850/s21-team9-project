{
 "cells": [
  {
   "cell_type": "code",
   "execution_count": 1,
   "metadata": {},
   "outputs": [],
   "source": [
    "# this notebook processes the mat files and produces the processed test data files\n",
    "# it extracts image path, age, gender, and the location of the face inside the image\n",
    "\n",
    "\n",
    "import numpy as np\n",
    "import matplotlib.pyplot as plt\n",
    "import os\n",
    "import scipy.io\n",
    "import datetime\n",
    "import pandas as pd\n",
    "import json\n",
    "from pymatreader import read_mat\n",
    "#from tensorflow.keras.preprocessing import image\n",
    "#import cv2"
   ]
  },
  {
   "cell_type": "code",
   "execution_count": 2,
   "metadata": {},
   "outputs": [],
   "source": [
    "# read the .mat files\n",
    "imdb_data = read_mat('./imdb.mat')['imdb']\n",
    "wiki_data = read_mat('./wiki.mat')['wiki']"
   ]
  },
  {
   "cell_type": "code",
   "execution_count": 3,
   "metadata": {},
   "outputs": [],
   "source": [
    "# function used to switch mat datetime format into normal date time\n",
    "def matDate_to_datetime(num_days):\n",
    "    fixed_days = int(num_days)-367\n",
    "    temp = datetime.datetime(1, 1, 1)\n",
    "    delta = datetime.timedelta(days=fixed_days)\n",
    "    return temp+delta\n",
    "\n",
    "# function used to derive the age from the given birthdate of the person in the image\n",
    "# if given two full date values\n",
    "def year_diff(d1, d2):\n",
    "    later = max(d1, d2)\n",
    "    earlier = min(d1, d2)\n",
    "    result = later.year - earlier.year\n",
    "    if later.month < earlier.month or (later.month == earlier.month and later.day < earlier.day):\n",
    "        result -= 1\n",
    "    return result\n",
    "\n",
    "#if given just years, since the photo taken value is given in just year format, we will use this\n",
    "def year_minus(d1, d2):\n",
    "    result = d1 - d2\n",
    "    return result"
   ]
  },
  {
   "cell_type": "code",
   "execution_count": 5,
   "metadata": {},
   "outputs": [
    {
     "name": "stdout",
     "output_type": "stream",
     "text": [
      "Imdb Bad DOB: 129\n",
      "Imdb corrupted data entry: 62289\n",
      "wiki Bad DOB: 0\n",
      "wiki corrupted data entry: 18030\n"
     ]
    }
   ],
   "source": [
    "# process the imdb mat file extract - age, gender, and image path, and face location\n",
    "PicsDict = []\n",
    "counter = 0\n",
    "corrupted = 0\n",
    "corruptedList = {\"wiki\":[],\"imbd\": []}\n",
    "for x in range(len(imdb_data[\"full_path\"])):\n",
    "    try:\n",
    "        age = year_minus(imdb_data[\"photo_taken\"][x],matDate_to_datetime(imdb_data[\"dob\"][x]).year)\n",
    "        if (str(imdb_data['face_score'][x]) == \"-inf\") or age > 130:\n",
    "            corrupted+=1\n",
    "            corruptedList[\"imbd\"].append(imdb_data[\"full_path\"][x])\n",
    "            continue \n",
    "        PicsDict.append([str(imdb_data[\"gender\"][x]),\n",
    "                                         str(age),\n",
    "                                              [int(y) for y in imdb_data[\"face_location\"][x]],\n",
    "                                                 imdb_data[\"full_path\"][x],\n",
    "                                                 str(imdb_data['face_score'][x])])\n",
    "    except Exception as e:\n",
    "        corruptedList[\"imbd\"].append(imdb_data[\"full_path\"][x])\n",
    "        counter += 1\n",
    "        \n",
    "print(\"Imdb Bad DOB:\",counter)\n",
    "print(\"Imdb corrupted data entry:\",corrupted)\n",
    "\n",
    "with open('imdb_outputdata.json', 'w') as outfile:\n",
    "    json.dump(PicsDict, outfile)\n",
    "\n",
    "# process the wiki mat file  extract - age, gender, and image path , and face location\n",
    "PicsDict = []\n",
    "counter = 0\n",
    "corrupted = 0\n",
    "for x in range(len(wiki_data[\"full_path\"])):\n",
    "    try:\n",
    "        age = year_minus(wiki_data[\"photo_taken\"][x],matDate_to_datetime(wiki_data[\"dob\"][x]).year)\n",
    "        if (str(wiki_data['face_score'][x]) == \"-inf\") or age > 130:\n",
    "            corrupted+=1\n",
    "            corruptedList[\"wiki\"].append(imdb_data[\"full_path\"][x])\n",
    "            continue \n",
    "        PicsDict.append([str(wiki_data[\"gender\"][x]),\n",
    "                                        str(age),\n",
    "                                         [int(y) for y in wiki_data[\"face_location\"][x]],\n",
    "                                        wiki_data[\"full_path\"][x],\n",
    "                                        str(wiki_data['face_score'][x])])\n",
    "    except Exception as e:\n",
    "        corruptedList[\"wiki\"].append(imdb_data[\"full_path\"][x])\n",
    "        counter += 1\n",
    "        \n",
    "print(\"wiki Bad DOB:\",counter)\n",
    "print(\"wiki corrupted data entry:\",corrupted)\n",
    "\n",
    "with open('wiki_outputdata.json', 'w') as outfile:\n",
    "    json.dump(PicsDict, outfile)\n",
    "          \n",
    "#Create a file with all of the corrupted images so we can delete them later\n",
    "with open('corrupted_outputdata.json', 'w') as outfile:\n",
    "    json.dump(corruptedList, outfile)"
   ]
  },
  {
   "cell_type": "code",
   "execution_count": null,
   "metadata": {},
   "outputs": [],
   "source": [
    "def crop_image(image, face_loc):\n",
    "    return image[face_loc[1]:face_loc[3], face_loc[0]:face_loc[2]]  #  1 , 3, 0, 2\n",
    "face_loc = [int(y) for y in wiki_data[\"face_location\"][0]]\n",
    "print(face_loc)\n",
    "img = cv2.imread(wiki_data[\"full_path\"][0])\n",
    "img = crop_image(img,face_loc)\n",
    "plt.imshow(img)\n",
    "plt.show()"
   ]
  },
  {
   "cell_type": "code",
   "execution_count": null,
   "metadata": {},
   "outputs": [],
   "source": [
    "import math\n",
    "for x in range(25,200):\n",
    "    print((imdb_data['face_score'][x]) != float('-inf'))"
   ]
  },
  {
   "cell_type": "code",
   "execution_count": 6,
   "metadata": {},
   "outputs": [],
   "source": [
    "#Delete the corrupted images\n",
    "import os\n",
    "import json\n",
    "\n",
    "JsonObj = json.load(open(\"corrupted_outputdata.json\"))\n",
    "\n",
    "for dataset in JsonObj:\n",
    "    for file in JsonObj[dataset]:\n",
    "        try:\n",
    "            os.remove(str(file))\n",
    "        except:\n",
    "            pass\n"
   ]
  },
  {
   "cell_type": "code",
   "execution_count": null,
   "metadata": {},
   "outputs": [],
   "source": []
  }
 ],
 "metadata": {
  "kernelspec": {
   "display_name": "Python 3",
   "language": "python",
   "name": "python3"
  },
  "language_info": {
   "codemirror_mode": {
    "name": "ipython",
    "version": 3
   },
   "file_extension": ".py",
   "mimetype": "text/x-python",
   "name": "python",
   "nbconvert_exporter": "python",
   "pygments_lexer": "ipython3",
   "version": "3.8.6"
  }
 },
 "nbformat": 4,
 "nbformat_minor": 5
}
