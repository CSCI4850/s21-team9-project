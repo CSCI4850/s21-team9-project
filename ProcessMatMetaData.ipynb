{
 "cells": [
  {
   "cell_type": "code",
   "execution_count": 9,
   "id": "missing-password",
   "metadata": {},
   "outputs": [],
   "source": [
    "# this notebook processes the mat files and produces the processed test data files\n",
    "# it extracts image path, age, gender, and the location of the face inside the image\n",
    "\n",
    "\n",
    "import numpy as np\n",
    "import matplotlib.pyplot as plt\n",
    "import os\n",
    "import scipy.io\n",
    "import datetime\n",
    "import pandas as pd\n",
    "import json\n",
    "from pymatreader import read_mat"
   ]
  },
  {
   "cell_type": "code",
   "execution_count": 14,
   "id": "healthy-representative",
   "metadata": {},
   "outputs": [],
   "source": [
    "# read the .mat files\n",
    "imdb_data = read_mat('./imdb.mat')['imdb']\n",
    "wiki_data = read_mat('./wiki.mat')['wiki']"
   ]
  },
  {
   "cell_type": "code",
   "execution_count": 15,
   "id": "unknown-residence",
   "metadata": {},
   "outputs": [],
   "source": [
    "# function used to switch mat datetime format into normal date time\n",
    "def matDate_to_datetime(num_days):\n",
    "    fixed_days = int(num_days)-367\n",
    "    temp = datetime.datetime(1, 1, 1)\n",
    "    delta = datetime.timedelta(days=fixed_days)\n",
    "    return temp+delta\n",
    "\n",
    "# function used to derive the age from the given birthdate of the person in the image\n",
    "# if given two full date values\n",
    "def year_diff(d1, d2):\n",
    "    later = max(d1, d2)\n",
    "    earlier = min(d1, d2)\n",
    "    result = later.year - earlier.year\n",
    "    if later.month < earlier.month or (later.month == earlier.month and later.day < earlier.day):\n",
    "        result -= 1\n",
    "    return result\n",
    "\n",
    "#if given just years, since the photo taken value is given in just year format, we will use this\n",
    "def year_minus(d1, d2):\n",
    "    result = d1 - d2\n",
    "    return result"
   ]
  },
  {
   "cell_type": "code",
   "execution_count": 19,
   "id": "injured-berkeley",
   "metadata": {},
   "outputs": [
    {
     "name": "stdout",
     "output_type": "stream",
     "text": [
      "Imdb Bad DOB: 129\n",
      "wiki Bad DOB: 0\n"
     ]
    }
   ],
   "source": [
    "# process the imdb mat file extract - age, gender, and image path, and face location\n",
    "PicsDict = []\n",
    "counter = 0\n",
    "for x in range(len(imdb_data[\"full_path\"])):\n",
    "    try:\n",
    "        PicsDict.append([str(imdb_data[\"gender\"][x]),\n",
    "                                         str(year_minus(imdb_data[\"photo_taken\"][x],matDate_to_datetime(imdb_data[\"dob\"][x]).year)),\n",
    "                                              [int(y) for y in imdb_data[\"face_location\"][x]],\n",
    "                                                 imdb_data[\"full_path\"][x]])\n",
    "    except:\n",
    "        counter += 1\n",
    "        \n",
    "print(\"Imdb Bad DOB:\",counter)\n",
    "\n",
    "with open('imdb_outputdata.json', 'w') as outfile:\n",
    "    json.dump(PicsDict, outfile)\n",
    "\n",
    "# process the wiki mat file  extract - age, gender, and image path , and face location\n",
    "PicsDict = []\n",
    "counter = 0\n",
    "for x in range(len(wiki_data[\"full_path\"])):\n",
    "    try:\n",
    "        for y in wiki_data[\"face_location\"][x]:\n",
    "            location_list.append(y)\n",
    "        PicsDict.append([str(wiki_data[\"gender\"][x]),\n",
    "                                        str(year_minus(wiki_data[\"photo_taken\"][x],matDate_to_datetime(wiki_data[\"dob\"][x]).year)),\n",
    "                                         [int(y) for y in wiki_data[\"face_location\"][x]],\n",
    "                                          wiki_data[\"full_path\"][x]])\n",
    "    except:\n",
    "        counter += 1\n",
    "        \n",
    "print(\"wiki Bad DOB:\",counter)\n",
    "\n",
    "with open('wiki_outputdata.json', 'w') as outfile:\n",
    "    json.dump(PicsDict, outfile)\n",
    "          \n",
    "    "
   ]
  },
  {
   "cell_type": "code",
   "execution_count": null,
   "id": "sporting-worry",
   "metadata": {},
   "outputs": [],
   "source": []
  }
 ],
 "metadata": {
  "kernelspec": {
   "display_name": "Python 3",
   "language": "python",
   "name": "python3"
  },
  "language_info": {
   "codemirror_mode": {
    "name": "ipython",
    "version": 3
   },
   "file_extension": ".py",
   "mimetype": "text/x-python",
   "name": "python",
   "nbconvert_exporter": "python",
   "pygments_lexer": "ipython3",
   "version": "3.8.6"
  }
 },
 "nbformat": 4,
 "nbformat_minor": 5
}
